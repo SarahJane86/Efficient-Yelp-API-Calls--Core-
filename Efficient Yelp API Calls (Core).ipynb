{
 "cells": [
  {
   "cell_type": "markdown",
   "metadata": {},
   "source": [
    "### Efficient Yelp API Calls (Core)\n",
    "#### Sarah Musselwhite\n",
    "#### 10/19/2022"
   ]
  },
  {
   "cell_type": "code",
   "execution_count": 1,
   "metadata": {},
   "outputs": [],
   "source": [
    "# Standard Imports\n",
    "import numpy as np\n",
    "import pandas as pd\n",
    "import matplotlib.pyplot as plt\n",
    "import seaborn as sns\n",
    "\n",
    "# Additional Imports\n",
    "import os, json, math, time\n",
    "from yelpapi import YelpAPI\n",
    "from tqdm.notebook import tqdm_notebook"
   ]
  },
  {
   "cell_type": "code",
   "execution_count": 2,
   "metadata": {},
   "outputs": [
    {
     "data": {
      "text/plain": [
       "dict_keys(['client-id', 'api-key'])"
      ]
     },
     "execution_count": 2,
     "metadata": {},
     "output_type": "execute_result"
    }
   ],
   "source": [
    "with open('/Users/Sarah/.secret/yelp_api.json') as f:\n",
    "    login = json.load(f)\n",
    "login.keys()\n"
   ]
  },
  {
   "cell_type": "code",
   "execution_count": 3,
   "metadata": {},
   "outputs": [
    {
     "data": {
      "text/plain": [
       "<yelpapi.yelpapi.YelpAPI at 0x144a0e542e0>"
      ]
     },
     "execution_count": 3,
     "metadata": {},
     "output_type": "execute_result"
    }
   ],
   "source": [
    "# Create an instance with your key\n",
    "yelp_api = YelpAPI(login['api-key'], timeout_s=5.0)\n",
    "yelp_api"
   ]
  },
  {
   "cell_type": "code",
   "execution_count": 4,
   "metadata": {},
   "outputs": [],
   "source": [
    "# set our API call parameters \n",
    "LOCATION = 'Nashville, TN'\n",
    "TERM = 'Italian'"
   ]
  },
  {
   "cell_type": "code",
   "execution_count": 5,
   "metadata": {},
   "outputs": [
    {
     "data": {
      "text/plain": [
       "'Data/results_in_progress_NashTN_Italian.json'"
      ]
     },
     "execution_count": 5,
     "metadata": {},
     "output_type": "execute_result"
    }
   ],
   "source": [
    "# Specifying JSON_FILE filename (can include a folder)\n",
    "# include the search terms in the filename\n",
    "JSON_FILE = \"Data/results_in_progress_NashTN_Italian.json\"\n",
    "JSON_FILE"
   ]
  },
  {
   "cell_type": "code",
   "execution_count": 6,
   "metadata": {},
   "outputs": [
    {
     "name": "stdout",
     "output_type": "stream",
     "text": [
      "[i] Data/results_in_progress_NashTN_Italian.json not found. Saving empty list to file.\n"
     ]
    }
   ],
   "source": [
    "## Check if JSON_FILE exists\n",
    "file_exists = os.path.isfile(JSON_FILE)\n",
    "## If it does not exist: \n",
    "if file_exists == False:\n",
    "    \n",
    "    ## CREATE ANY NEEDED FOLDERS\n",
    "    # Get the Folder Name only\n",
    "    folder = os.path.dirname(JSON_FILE)\n",
    "    ## If JSON_FILE included a folder:\n",
    "    if len(folder)>0:\n",
    "        # create the folder\n",
    "        os.makedirs(folder,exist_ok=True)\n",
    "        \n",
    "        \n",
    "    ## INFORM USER AND SAVE EMPTY LIST\n",
    "    print(f'[i] {JSON_FILE} not found. Saving empty list to file.')\n",
    "    \n",
    "    \n",
    "    # save an empty list\n",
    "    with open(JSON_FILE,'w') as f:\n",
    "        json.dump([],f)  \n",
    "# If it exists, inform user\n",
    "else:\n",
    "    print(f\"[i] {JSON_FILE} already exists.\")"
   ]
  },
  {
   "cell_type": "code",
   "execution_count": 7,
   "metadata": {},
   "outputs": [
    {
     "name": "stdout",
     "output_type": "stream",
     "text": [
      "- 0 previous results found.\n"
     ]
    }
   ],
   "source": [
    "## Load previous results and use len of results for offset\n",
    "with open(JSON_FILE,'r') as f:\n",
    "    previous_results = json.load(f)\n",
    "    \n",
    "## set offset based on previous results\n",
    "n_results = len(previous_results)\n",
    "print(f'- {n_results} previous results found.')"
   ]
  },
  {
   "cell_type": "code",
   "execution_count": 8,
   "metadata": {},
   "outputs": [
    {
     "data": {
      "text/plain": [
       "dict_keys(['businesses', 'total', 'region'])"
      ]
     },
     "execution_count": 8,
     "metadata": {},
     "output_type": "execute_result"
    }
   ],
   "source": [
    "# use our yelp_api variable's search_query method to perform our API call\n",
    "results = yelp_api.search_query(location=LOCATION,\n",
    "                                term=TERM,\n",
    "                               offset=n_results)\n",
    "results.keys()"
   ]
  },
  {
   "cell_type": "code",
   "execution_count": 9,
   "metadata": {},
   "outputs": [
    {
     "data": {
      "text/plain": [
       "573"
      ]
     },
     "execution_count": 9,
     "metadata": {},
     "output_type": "execute_result"
    }
   ],
   "source": [
    "## How many results total?\n",
    "total_results = results['total']\n",
    "total_results"
   ]
  },
  {
   "cell_type": "code",
   "execution_count": 10,
   "metadata": {},
   "outputs": [
    {
     "data": {
      "text/plain": [
       "20"
      ]
     },
     "execution_count": 10,
     "metadata": {},
     "output_type": "execute_result"
    }
   ],
   "source": [
    "## How many did we get the details for?\n",
    "results_per_page = len(results['businesses'])\n",
    "results_per_page"
   ]
  },
  {
   "cell_type": "code",
   "execution_count": 11,
   "metadata": {},
   "outputs": [
    {
     "data": {
      "text/plain": [
       "29"
      ]
     },
     "execution_count": 11,
     "metadata": {},
     "output_type": "execute_result"
    }
   ],
   "source": [
    "n_pages = math.ceil((results['total']-n_results)/ results_per_page)\n",
    "n_pages"
   ]
  },
  {
   "cell_type": "code",
   "execution_count": 12,
   "metadata": {},
   "outputs": [],
   "source": [
    "# join new results with old list with extend and save to file\n",
    "previous_results.extend(results['businesses'])  \n",
    "with open(JSON_FILE,'w') as f:\n",
    "     json.dump(previous_results,f)"
   ]
  },
  {
   "cell_type": "code",
   "execution_count": 13,
   "metadata": {},
   "outputs": [
    {
     "data": {
      "application/vnd.jupyter.widget-view+json": {
       "model_id": "c046736eebde43dbbbec69e4df49cd5d",
       "version_major": 2,
       "version_minor": 0
      },
      "text/plain": [
       "  0%|          | 0/29 [00:00<?, ?it/s]"
      ]
     },
     "metadata": {},
     "output_type": "display_data"
    }
   ],
   "source": [
    "for i in tqdm_notebook( range(1,n_pages+1)):\n",
    "    \n",
    "    ## Read in results in progress file and check the length\n",
    "    with open(JSON_FILE, 'r') as f:\n",
    "        previous_results = json.load(f)\n",
    "    ## save number of results for to use as offset\n",
    "    n_results = len(previous_results)\n",
    "    ## use n_results as the OFFSET \n",
    "    results = yelp_api.search_query(location=LOCATION,\n",
    "                                    term=TERM, \n",
    "                                    offset=n_results)\n",
    "    \n",
    "    ## append new results and save to file\n",
    "    previous_results.extend(results['businesses'])\n",
    "    \n",
    "    with open(JSON_FILE,'w') as f:\n",
    "        json.dump(previous_results,f)\n",
    "    \n",
    "    # add a 200ms pause\n",
    "    time.sleep(.2)"
   ]
  },
  {
   "cell_type": "code",
   "execution_count": 14,
   "metadata": {},
   "outputs": [
    {
     "data": {
      "text/plain": [
       "False"
      ]
     },
     "execution_count": 14,
     "metadata": {},
     "output_type": "execute_result"
    }
   ],
   "source": [
    "os.remove(JSON_FILE)\n",
    "os.path.isfile(JSON_FILE)"
   ]
  },
  {
   "cell_type": "code",
   "execution_count": 15,
   "metadata": {},
   "outputs": [],
   "source": [
    "def create_json_file(JSON_FILE,  delete_if_exists=False):\n",
    "    \n",
    "    ## Check if JSON_FILE exists\n",
    "    file_exists = os.path.isfile(JSON_FILE)\n",
    "    \n",
    "    ## If it DOES exist:\n",
    "    if file_exists == True:\n",
    "        \n",
    "        ## Check if user wants to delete if exists\n",
    "        if delete_if_exists==True:\n",
    "            \n",
    "            print(f\"[!] {JSON_FILE} already exists. Deleting previous file...\")\n",
    "            ## delete file and confirm it no longer exits.\n",
    "            os.remove(JSON_FILE)\n",
    "            ## Recursive call to function after old file deleted\n",
    "            create_json_file(JSON_FILE,delete_if_exists=False)\n",
    "        else:\n",
    "            print(f\"[i] {JSON_FILE} already exists.\")            \n",
    "            \n",
    "            \n",
    "    ## If it does NOT exist:\n",
    "    else:\n",
    "        \n",
    "        ## INFORM USER AND SAVE EMPTY LIST\n",
    "        print(f\"[i] {JSON_FILE} not found. Saving empty list to new file.\")\n",
    "        \n",
    "        ## CREATE ANY NEEDED FOLDERS\n",
    "        # Get the Folder Name only\n",
    "        folder = os.path.dirname(JSON_FILE)\n",
    "        \n",
    "        ## If JSON_FILE included a folder:\n",
    "        if len(folder)>0:\n",
    "            # create the folder\n",
    "            os.makedirs(folder,exist_ok=True)\n",
    "        ## Save empty list to start the json file\n",
    "        with open(JSON_FILE,'w') as f:\n",
    "            json.dump([],f)  "
   ]
  },
  {
   "cell_type": "code",
   "execution_count": 16,
   "metadata": {},
   "outputs": [
    {
     "name": "stdout",
     "output_type": "stream",
     "text": [
      "[i] Data/results_in_progress_NashTN_Italian.json not found. Saving empty list to new file.\n",
      "- 0 previous results found.\n"
     ]
    },
    {
     "data": {
      "text/plain": [
       "29"
      ]
     },
     "execution_count": 16,
     "metadata": {},
     "output_type": "execute_result"
    }
   ],
   "source": [
    "## Create a new empty json file (exist the previous if it exists)\n",
    "create_json_file(JSON_FILE, delete_if_exists=True)\n",
    "## Load previous results and use len of results for offset\n",
    "with open(JSON_FILE,'r') as f:\n",
    "    previous_results = json.load(f)\n",
    "    \n",
    "## set offset based on previous results\n",
    "n_results = len(previous_results)\n",
    "print(f'- {n_results} previous results found.')\n",
    "# use our yelp_api variable's search_query method to perform our API call\n",
    "results = yelp_api.search_query(location=LOCATION,\n",
    "                                term=TERM,\n",
    "                               offset=n_results)\n",
    "## How many results total?\n",
    "total_results = results['total']\n",
    "## How many did we get the details for?\n",
    "results_per_page = len(results['businesses'])\n",
    "# Use math.ceil to round up for the total number of pages of results.\n",
    "n_pages = math.ceil((results['total']-n_results)/ results_per_page)\n",
    "n_pages"
   ]
  },
  {
   "cell_type": "code",
   "execution_count": 17,
   "metadata": {},
   "outputs": [
    {
     "data": {
      "application/vnd.jupyter.widget-view+json": {
       "model_id": "d950b13b9de94e10b6bd73c7cf040ab1",
       "version_major": 2,
       "version_minor": 0
      },
      "text/plain": [
       "  0%|          | 0/29 [00:00<?, ?it/s]"
      ]
     },
     "metadata": {},
     "output_type": "display_data"
    }
   ],
   "source": [
    "for i in tqdm_notebook( range(1,n_pages+1)):\n",
    "    \n",
    "    ## Read in results in progress file and check the length\n",
    "    with open(JSON_FILE, 'r') as f:\n",
    "        previous_results = json.load(f)\n",
    "    ## save number of results for to use as offset\n",
    "    n_results = len(previous_results)\n",
    "    \n",
    "    if (n_results + results_per_page) > 1000:\n",
    "        print('Exceeded 1000 api calls. Stopping loop.')\n",
    "        break\n",
    "    \n",
    "    ## use n_results as the OFFSET \n",
    "    results = yelp_api.search_query(location=LOCATION,\n",
    "                                    term=TERM, \n",
    "                                    offset=n_results)\n",
    "    \n",
    "    \n",
    "    \n",
    "    ## append new results and save to file\n",
    "    previous_results.extend(results['businesses'])\n",
    "    \n",
    "    # display(previous_results)\n",
    "    with open(JSON_FILE,'w') as f:\n",
    "        json.dump(previous_results,f)\n",
    "    \n",
    "    time.sleep(.2)"
   ]
  },
  {
   "cell_type": "code",
   "execution_count": 18,
   "metadata": {},
   "outputs": [
    {
     "data": {
      "text/html": [
       "<div>\n",
       "<style scoped>\n",
       "    .dataframe tbody tr th:only-of-type {\n",
       "        vertical-align: middle;\n",
       "    }\n",
       "\n",
       "    .dataframe tbody tr th {\n",
       "        vertical-align: top;\n",
       "    }\n",
       "\n",
       "    .dataframe thead th {\n",
       "        text-align: right;\n",
       "    }\n",
       "</style>\n",
       "<table border=\"1\" class=\"dataframe\">\n",
       "  <thead>\n",
       "    <tr style=\"text-align: right;\">\n",
       "      <th></th>\n",
       "      <th>id</th>\n",
       "      <th>alias</th>\n",
       "      <th>name</th>\n",
       "      <th>image_url</th>\n",
       "      <th>is_closed</th>\n",
       "      <th>url</th>\n",
       "      <th>review_count</th>\n",
       "      <th>categories</th>\n",
       "      <th>rating</th>\n",
       "      <th>coordinates</th>\n",
       "      <th>transactions</th>\n",
       "      <th>price</th>\n",
       "      <th>location</th>\n",
       "      <th>phone</th>\n",
       "      <th>display_phone</th>\n",
       "      <th>distance</th>\n",
       "    </tr>\n",
       "  </thead>\n",
       "  <tbody>\n",
       "    <tr>\n",
       "      <th>0</th>\n",
       "      <td>QL4C7sd9PFUOGGpHwe1dlQ</td>\n",
       "      <td>trattoria-il-mulino-nashville</td>\n",
       "      <td>Trattoria Il Mulino</td>\n",
       "      <td>https://s3-media1.fl.yelpcdn.com/bphoto/T9cubd...</td>\n",
       "      <td>False</td>\n",
       "      <td>https://www.yelp.com/biz/trattoria-il-mulino-n...</td>\n",
       "      <td>369</td>\n",
       "      <td>[{'alias': 'italian', 'title': 'Italian'}, {'a...</td>\n",
       "      <td>4.0</td>\n",
       "      <td>{'latitude': 36.15976916947817, 'longitude': -...</td>\n",
       "      <td>[delivery]</td>\n",
       "      <td>$$$</td>\n",
       "      <td>{'address1': '144 Rep John Lewis Way S', 'addr...</td>\n",
       "      <td>+16156203700</td>\n",
       "      <td>(615) 620-3700</td>\n",
       "      <td>2463.163444</td>\n",
       "    </tr>\n",
       "    <tr>\n",
       "      <th>1</th>\n",
       "      <td>rCOIoZ3WuA6pkgRltfEN1g</td>\n",
       "      <td>amerigo-italian-restaurant-nashville-4</td>\n",
       "      <td>Amerigo Italian Restaurant</td>\n",
       "      <td>https://s3-media1.fl.yelpcdn.com/bphoto/5DE7_0...</td>\n",
       "      <td>False</td>\n",
       "      <td>https://www.yelp.com/biz/amerigo-italian-resta...</td>\n",
       "      <td>587</td>\n",
       "      <td>[{'alias': 'italian', 'title': 'Italian'}, {'a...</td>\n",
       "      <td>4.0</td>\n",
       "      <td>{'latitude': 36.1516729421203, 'longitude': -8...</td>\n",
       "      <td>[delivery, pickup]</td>\n",
       "      <td>$$</td>\n",
       "      <td>{'address1': '1920 West End Ave', 'address2': ...</td>\n",
       "      <td>+16153201740</td>\n",
       "      <td>(615) 320-1740</td>\n",
       "      <td>2640.168504</td>\n",
       "    </tr>\n",
       "    <tr>\n",
       "      <th>2</th>\n",
       "      <td>vVAOIMU5cz8PL4d8Dzeb5Q</td>\n",
       "      <td>tutti-da-gio-hermitage</td>\n",
       "      <td>Tutti Da Gio</td>\n",
       "      <td>https://s3-media2.fl.yelpcdn.com/bphoto/UMhWAg...</td>\n",
       "      <td>False</td>\n",
       "      <td>https://www.yelp.com/biz/tutti-da-gio-hermitag...</td>\n",
       "      <td>50</td>\n",
       "      <td>[{'alias': 'sicilian', 'title': 'Sicilian'}, {...</td>\n",
       "      <td>5.0</td>\n",
       "      <td>{'latitude': 36.16748676542455, 'longitude': -...</td>\n",
       "      <td>[delivery, pickup]</td>\n",
       "      <td>$$</td>\n",
       "      <td>{'address1': '5851 Old Hickory Blvd', 'address...</td>\n",
       "      <td>+16156226078</td>\n",
       "      <td>(615) 622-6078</td>\n",
       "      <td>16040.831753</td>\n",
       "    </tr>\n",
       "    <tr>\n",
       "      <th>3</th>\n",
       "      <td>LxsWPSt_Su65dB48iH-bkA</td>\n",
       "      <td>il-forno-nashville-2</td>\n",
       "      <td>Il Forno</td>\n",
       "      <td>https://s3-media3.fl.yelpcdn.com/bphoto/XnrUVP...</td>\n",
       "      <td>False</td>\n",
       "      <td>https://www.yelp.com/biz/il-forno-nashville-2?...</td>\n",
       "      <td>82</td>\n",
       "      <td>[{'alias': 'italian', 'title': 'Italian'}]</td>\n",
       "      <td>4.0</td>\n",
       "      <td>{'latitude': 36.1413, 'longitude': -86.7627}</td>\n",
       "      <td>[delivery, pickup]</td>\n",
       "      <td>$$</td>\n",
       "      <td>{'address1': '1414 3rd Ave S', 'address2': 'St...</td>\n",
       "      <td>+16157396713</td>\n",
       "      <td>(615) 739-6713</td>\n",
       "      <td>1216.351274</td>\n",
       "    </tr>\n",
       "    <tr>\n",
       "      <th>4</th>\n",
       "      <td>IkLp51a_x_0CPlg0qMEqNg</td>\n",
       "      <td>pennepazze-nashville</td>\n",
       "      <td>PennePazze</td>\n",
       "      <td>https://s3-media2.fl.yelpcdn.com/bphoto/tvj-pl...</td>\n",
       "      <td>False</td>\n",
       "      <td>https://www.yelp.com/biz/pennepazze-nashville?...</td>\n",
       "      <td>232</td>\n",
       "      <td>[{'alias': 'italian', 'title': 'Italian'}]</td>\n",
       "      <td>4.5</td>\n",
       "      <td>{'latitude': 36.1526515, 'longitude': -86.8327...</td>\n",
       "      <td>[delivery, pickup]</td>\n",
       "      <td>$$</td>\n",
       "      <td>{'address1': '3826 Charlotte Ave', 'address2':...</td>\n",
       "      <td>+16157303088</td>\n",
       "      <td>(615) 730-3088</td>\n",
       "      <td>5418.091175</td>\n",
       "    </tr>\n",
       "  </tbody>\n",
       "</table>\n",
       "</div>"
      ],
      "text/plain": [
       "                       id                                   alias  \\\n",
       "0  QL4C7sd9PFUOGGpHwe1dlQ           trattoria-il-mulino-nashville   \n",
       "1  rCOIoZ3WuA6pkgRltfEN1g  amerigo-italian-restaurant-nashville-4   \n",
       "2  vVAOIMU5cz8PL4d8Dzeb5Q                  tutti-da-gio-hermitage   \n",
       "3  LxsWPSt_Su65dB48iH-bkA                    il-forno-nashville-2   \n",
       "4  IkLp51a_x_0CPlg0qMEqNg                    pennepazze-nashville   \n",
       "\n",
       "                         name  \\\n",
       "0         Trattoria Il Mulino   \n",
       "1  Amerigo Italian Restaurant   \n",
       "2                Tutti Da Gio   \n",
       "3                    Il Forno   \n",
       "4                  PennePazze   \n",
       "\n",
       "                                           image_url  is_closed  \\\n",
       "0  https://s3-media1.fl.yelpcdn.com/bphoto/T9cubd...      False   \n",
       "1  https://s3-media1.fl.yelpcdn.com/bphoto/5DE7_0...      False   \n",
       "2  https://s3-media2.fl.yelpcdn.com/bphoto/UMhWAg...      False   \n",
       "3  https://s3-media3.fl.yelpcdn.com/bphoto/XnrUVP...      False   \n",
       "4  https://s3-media2.fl.yelpcdn.com/bphoto/tvj-pl...      False   \n",
       "\n",
       "                                                 url  review_count  \\\n",
       "0  https://www.yelp.com/biz/trattoria-il-mulino-n...           369   \n",
       "1  https://www.yelp.com/biz/amerigo-italian-resta...           587   \n",
       "2  https://www.yelp.com/biz/tutti-da-gio-hermitag...            50   \n",
       "3  https://www.yelp.com/biz/il-forno-nashville-2?...            82   \n",
       "4  https://www.yelp.com/biz/pennepazze-nashville?...           232   \n",
       "\n",
       "                                          categories  rating  \\\n",
       "0  [{'alias': 'italian', 'title': 'Italian'}, {'a...     4.0   \n",
       "1  [{'alias': 'italian', 'title': 'Italian'}, {'a...     4.0   \n",
       "2  [{'alias': 'sicilian', 'title': 'Sicilian'}, {...     5.0   \n",
       "3         [{'alias': 'italian', 'title': 'Italian'}]     4.0   \n",
       "4         [{'alias': 'italian', 'title': 'Italian'}]     4.5   \n",
       "\n",
       "                                         coordinates        transactions  \\\n",
       "0  {'latitude': 36.15976916947817, 'longitude': -...          [delivery]   \n",
       "1  {'latitude': 36.1516729421203, 'longitude': -8...  [delivery, pickup]   \n",
       "2  {'latitude': 36.16748676542455, 'longitude': -...  [delivery, pickup]   \n",
       "3       {'latitude': 36.1413, 'longitude': -86.7627}  [delivery, pickup]   \n",
       "4  {'latitude': 36.1526515, 'longitude': -86.8327...  [delivery, pickup]   \n",
       "\n",
       "  price                                           location         phone  \\\n",
       "0   $$$  {'address1': '144 Rep John Lewis Way S', 'addr...  +16156203700   \n",
       "1    $$  {'address1': '1920 West End Ave', 'address2': ...  +16153201740   \n",
       "2    $$  {'address1': '5851 Old Hickory Blvd', 'address...  +16156226078   \n",
       "3    $$  {'address1': '1414 3rd Ave S', 'address2': 'St...  +16157396713   \n",
       "4    $$  {'address1': '3826 Charlotte Ave', 'address2':...  +16157303088   \n",
       "\n",
       "    display_phone      distance  \n",
       "0  (615) 620-3700   2463.163444  \n",
       "1  (615) 320-1740   2640.168504  \n",
       "2  (615) 622-6078  16040.831753  \n",
       "3  (615) 739-6713   1216.351274  \n",
       "4  (615) 730-3088   5418.091175  "
      ]
     },
     "metadata": {},
     "output_type": "display_data"
    },
    {
     "data": {
      "text/html": [
       "<div>\n",
       "<style scoped>\n",
       "    .dataframe tbody tr th:only-of-type {\n",
       "        vertical-align: middle;\n",
       "    }\n",
       "\n",
       "    .dataframe tbody tr th {\n",
       "        vertical-align: top;\n",
       "    }\n",
       "\n",
       "    .dataframe thead th {\n",
       "        text-align: right;\n",
       "    }\n",
       "</style>\n",
       "<table border=\"1\" class=\"dataframe\">\n",
       "  <thead>\n",
       "    <tr style=\"text-align: right;\">\n",
       "      <th></th>\n",
       "      <th>id</th>\n",
       "      <th>alias</th>\n",
       "      <th>name</th>\n",
       "      <th>image_url</th>\n",
       "      <th>is_closed</th>\n",
       "      <th>url</th>\n",
       "      <th>review_count</th>\n",
       "      <th>categories</th>\n",
       "      <th>rating</th>\n",
       "      <th>coordinates</th>\n",
       "      <th>transactions</th>\n",
       "      <th>price</th>\n",
       "      <th>location</th>\n",
       "      <th>phone</th>\n",
       "      <th>display_phone</th>\n",
       "      <th>distance</th>\n",
       "    </tr>\n",
       "  </thead>\n",
       "  <tbody>\n",
       "    <tr>\n",
       "      <th>568</th>\n",
       "      <td>r0iqLPjPiYVHC8C-Hvy7mQ</td>\n",
       "      <td>dominos-pizza-franklin-8</td>\n",
       "      <td>Domino's Pizza</td>\n",
       "      <td>https://s3-media2.fl.yelpcdn.com/bphoto/22qrnm...</td>\n",
       "      <td>False</td>\n",
       "      <td>https://www.yelp.com/biz/dominos-pizza-frankli...</td>\n",
       "      <td>29</td>\n",
       "      <td>[{'alias': 'pizza', 'title': 'Pizza'}, {'alias...</td>\n",
       "      <td>2.5</td>\n",
       "      <td>{'latitude': 35.956809, 'longitude': -86.802401}</td>\n",
       "      <td>[]</td>\n",
       "      <td>$</td>\n",
       "      <td>{'address1': '9040 Carothers Pkwy', 'address2'...</td>\n",
       "      <td>+16154358181</td>\n",
       "      <td>(615) 435-8181</td>\n",
       "      <td>20258.700925</td>\n",
       "    </tr>\n",
       "    <tr>\n",
       "      <th>569</th>\n",
       "      <td>E7bkcP9nsg448iz3NLtRXA</td>\n",
       "      <td>jets-pizza-murfreesboro-2</td>\n",
       "      <td>Jet's Pizza</td>\n",
       "      <td>https://s3-media2.fl.yelpcdn.com/bphoto/EiP0uQ...</td>\n",
       "      <td>False</td>\n",
       "      <td>https://www.yelp.com/biz/jets-pizza-murfreesbo...</td>\n",
       "      <td>20</td>\n",
       "      <td>[{'alias': 'pizza', 'title': 'Pizza'}]</td>\n",
       "      <td>2.0</td>\n",
       "      <td>{'latitude': 35.9073486, 'longitude': -86.3842...</td>\n",
       "      <td>[delivery, pickup]</td>\n",
       "      <td>$$</td>\n",
       "      <td>{'address1': '3325 Memorial Blvd', 'address2':...</td>\n",
       "      <td>+16158965550</td>\n",
       "      <td>(615) 896-5550</td>\n",
       "      <td>43522.573229</td>\n",
       "    </tr>\n",
       "    <tr>\n",
       "      <th>570</th>\n",
       "      <td>t-2usJ_mJs6wAXIlBwGZFA</td>\n",
       "      <td>dominos-pizza-murfreesboro</td>\n",
       "      <td>Domino's Pizza</td>\n",
       "      <td>https://s3-media1.fl.yelpcdn.com/bphoto/yYzJfE...</td>\n",
       "      <td>False</td>\n",
       "      <td>https://www.yelp.com/biz/dominos-pizza-murfree...</td>\n",
       "      <td>20</td>\n",
       "      <td>[{'alias': 'pizza', 'title': 'Pizza'}, {'alias...</td>\n",
       "      <td>3.0</td>\n",
       "      <td>{'latitude': 35.8247414, 'longitude': -86.41745}</td>\n",
       "      <td>[]</td>\n",
       "      <td>$</td>\n",
       "      <td>{'address1': '1515 Warrior Dr', 'address2': ''...</td>\n",
       "      <td>+16158900893</td>\n",
       "      <td>(615) 890-0893</td>\n",
       "      <td>47424.242961</td>\n",
       "    </tr>\n",
       "    <tr>\n",
       "      <th>571</th>\n",
       "      <td>QHRaB7S6I0HET0uLgR3FyA</td>\n",
       "      <td>papa-johns-pizza-murfreesboro-3</td>\n",
       "      <td>Papa Johns Pizza</td>\n",
       "      <td>https://s3-media2.fl.yelpcdn.com/bphoto/wHUtrg...</td>\n",
       "      <td>False</td>\n",
       "      <td>https://www.yelp.com/biz/papa-johns-pizza-murf...</td>\n",
       "      <td>22</td>\n",
       "      <td>[{'alias': 'pizza', 'title': 'Pizza'}, {'alias...</td>\n",
       "      <td>2.0</td>\n",
       "      <td>{'latitude': 35.88736084483143, 'longitude': -...</td>\n",
       "      <td>[delivery, pickup]</td>\n",
       "      <td>$</td>\n",
       "      <td>{'address1': '2365 Memorial Blvd', 'address2':...</td>\n",
       "      <td>+16158907272</td>\n",
       "      <td>(615) 890-7272</td>\n",
       "      <td>44879.967486</td>\n",
       "    </tr>\n",
       "    <tr>\n",
       "      <th>572</th>\n",
       "      <td>zZbCXMlme_rnBc7Khzyodg</td>\n",
       "      <td>pizza-hut-murfreesboro</td>\n",
       "      <td>Pizza Hut</td>\n",
       "      <td>https://s3-media1.fl.yelpcdn.com/bphoto/8s7Ffc...</td>\n",
       "      <td>False</td>\n",
       "      <td>https://www.yelp.com/biz/pizza-hut-murfreesbor...</td>\n",
       "      <td>18</td>\n",
       "      <td>[{'alias': 'pizza', 'title': 'Pizza'}, {'alias...</td>\n",
       "      <td>2.0</td>\n",
       "      <td>{'latitude': 35.844851, 'longitude': -86.443754}</td>\n",
       "      <td>[delivery, pickup]</td>\n",
       "      <td>$</td>\n",
       "      <td>{'address1': '2575 Old Ford Pkwy', 'address2':...</td>\n",
       "      <td>+16152177557</td>\n",
       "      <td>(615) 217-7557</td>\n",
       "      <td>44172.862064</td>\n",
       "    </tr>\n",
       "  </tbody>\n",
       "</table>\n",
       "</div>"
      ],
      "text/plain": [
       "                         id                            alias  \\\n",
       "568  r0iqLPjPiYVHC8C-Hvy7mQ         dominos-pizza-franklin-8   \n",
       "569  E7bkcP9nsg448iz3NLtRXA        jets-pizza-murfreesboro-2   \n",
       "570  t-2usJ_mJs6wAXIlBwGZFA       dominos-pizza-murfreesboro   \n",
       "571  QHRaB7S6I0HET0uLgR3FyA  papa-johns-pizza-murfreesboro-3   \n",
       "572  zZbCXMlme_rnBc7Khzyodg           pizza-hut-murfreesboro   \n",
       "\n",
       "                 name                                          image_url  \\\n",
       "568    Domino's Pizza  https://s3-media2.fl.yelpcdn.com/bphoto/22qrnm...   \n",
       "569       Jet's Pizza  https://s3-media2.fl.yelpcdn.com/bphoto/EiP0uQ...   \n",
       "570    Domino's Pizza  https://s3-media1.fl.yelpcdn.com/bphoto/yYzJfE...   \n",
       "571  Papa Johns Pizza  https://s3-media2.fl.yelpcdn.com/bphoto/wHUtrg...   \n",
       "572         Pizza Hut  https://s3-media1.fl.yelpcdn.com/bphoto/8s7Ffc...   \n",
       "\n",
       "     is_closed                                                url  \\\n",
       "568      False  https://www.yelp.com/biz/dominos-pizza-frankli...   \n",
       "569      False  https://www.yelp.com/biz/jets-pizza-murfreesbo...   \n",
       "570      False  https://www.yelp.com/biz/dominos-pizza-murfree...   \n",
       "571      False  https://www.yelp.com/biz/papa-johns-pizza-murf...   \n",
       "572      False  https://www.yelp.com/biz/pizza-hut-murfreesbor...   \n",
       "\n",
       "     review_count                                         categories  rating  \\\n",
       "568            29  [{'alias': 'pizza', 'title': 'Pizza'}, {'alias...     2.5   \n",
       "569            20             [{'alias': 'pizza', 'title': 'Pizza'}]     2.0   \n",
       "570            20  [{'alias': 'pizza', 'title': 'Pizza'}, {'alias...     3.0   \n",
       "571            22  [{'alias': 'pizza', 'title': 'Pizza'}, {'alias...     2.0   \n",
       "572            18  [{'alias': 'pizza', 'title': 'Pizza'}, {'alias...     2.0   \n",
       "\n",
       "                                           coordinates        transactions  \\\n",
       "568   {'latitude': 35.956809, 'longitude': -86.802401}                  []   \n",
       "569  {'latitude': 35.9073486, 'longitude': -86.3842...  [delivery, pickup]   \n",
       "570   {'latitude': 35.8247414, 'longitude': -86.41745}                  []   \n",
       "571  {'latitude': 35.88736084483143, 'longitude': -...  [delivery, pickup]   \n",
       "572   {'latitude': 35.844851, 'longitude': -86.443754}  [delivery, pickup]   \n",
       "\n",
       "    price                                           location         phone  \\\n",
       "568     $  {'address1': '9040 Carothers Pkwy', 'address2'...  +16154358181   \n",
       "569    $$  {'address1': '3325 Memorial Blvd', 'address2':...  +16158965550   \n",
       "570     $  {'address1': '1515 Warrior Dr', 'address2': ''...  +16158900893   \n",
       "571     $  {'address1': '2365 Memorial Blvd', 'address2':...  +16158907272   \n",
       "572     $  {'address1': '2575 Old Ford Pkwy', 'address2':...  +16152177557   \n",
       "\n",
       "      display_phone      distance  \n",
       "568  (615) 435-8181  20258.700925  \n",
       "569  (615) 896-5550  43522.573229  \n",
       "570  (615) 890-0893  47424.242961  \n",
       "571  (615) 890-7272  44879.967486  \n",
       "572  (615) 217-7557  44172.862064  "
      ]
     },
     "metadata": {},
     "output_type": "display_data"
    }
   ],
   "source": [
    "# load final results\n",
    "final_df = pd.read_json(JSON_FILE)\n",
    "display(final_df.head(), final_df.tail())"
   ]
  },
  {
   "cell_type": "code",
   "execution_count": 19,
   "metadata": {},
   "outputs": [
    {
     "data": {
      "text/plain": [
       "1"
      ]
     },
     "execution_count": 19,
     "metadata": {},
     "output_type": "execute_result"
    }
   ],
   "source": [
    "# check for duplicate ID's \n",
    "final_df.duplicated(subset='id').sum()"
   ]
  },
  {
   "cell_type": "code",
   "execution_count": 20,
   "metadata": {},
   "outputs": [
    {
     "data": {
      "text/plain": [
       "0"
      ]
     },
     "execution_count": 20,
     "metadata": {},
     "output_type": "execute_result"
    }
   ],
   "source": [
    "## Drop duplicate ids and confirm there are no more duplicates\n",
    "final_df = final_df.drop_duplicates(subset='id')\n",
    "final_df.duplicated(subset='id').sum()"
   ]
  },
  {
   "cell_type": "code",
   "execution_count": 21,
   "metadata": {},
   "outputs": [],
   "source": [
    "# save the final results to a compressed csv\n",
    "final_df.to_csv('Data/final_results_NashTN_Italian.csv.gz', compression='gzip',index=False)"
   ]
  }
 ],
 "metadata": {
  "kernelspec": {
   "display_name": "Python (dojo-env)",
   "language": "python",
   "name": "dojo-env"
  },
  "language_info": {
   "codemirror_mode": {
    "name": "ipython",
    "version": 3
   },
   "file_extension": ".py",
   "mimetype": "text/x-python",
   "name": "python",
   "nbconvert_exporter": "python",
   "pygments_lexer": "ipython3",
   "version": "3.8.13"
  },
  "toc": {
   "base_numbering": 1,
   "nav_menu": {},
   "number_sections": false,
   "sideBar": true,
   "skip_h1_title": false,
   "title_cell": "Table of Contents",
   "title_sidebar": "Contents",
   "toc_cell": false,
   "toc_position": {},
   "toc_section_display": true,
   "toc_window_display": false
  },
  "vscode": {
   "interpreter": {
    "hash": "3d3af293e0fc9a9df57654d6f7a636bed1b3423e878a9389075cb45458b282c4"
   }
  }
 },
 "nbformat": 4,
 "nbformat_minor": 2
}
